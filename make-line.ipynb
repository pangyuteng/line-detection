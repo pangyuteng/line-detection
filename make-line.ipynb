{
 "cells": [
  {
   "cell_type": "code",
   "execution_count": 16,
   "metadata": {},
   "outputs": [],
   "source": [
    "import traceback\n",
    "import numpy as np\n",
    "from scipy.interpolate import UnivariateSpline\n",
    "from scipy.ndimage import binary_dilation\n",
    "from scipy import ndimage as ndi\n",
    "import matplotlib.pyplot as plt\n",
    "%matplotlib inline\n",
    "\n",
    "from extract_centerline import extract_centerline"
   ]
  },
  {
   "cell_type": "code",
   "execution_count": null,
   "metadata": {},
   "outputs": [],
   "source": [
    "# download dataset\n",
    "https://cs.stanford.edu/~acoates/stl10/\n",
    "https://www.tensorflow.org/api_docs/python/tf/data/Dataset\n",
    "    \n",
    "# add lines to images.\n",
    "\n",
    "# create label\n",
    "# grid - endpoint, line mask, startpoint\n",
    "# train yolo with images with line\n",
    "#"
   ]
  },
  {
   "cell_type": "code",
   "execution_count": null,
   "metadata": {},
   "outputs": [],
   "source": [
    "# make line\n",
    "from skimage import data\n",
    "from skimage import color\n",
    "from skimage import io\n",
    "\n",
    "baseimg = getattr(data,'astronaut')()\n",
    "baseimg = color.rgb2gray(baseimg)\n",
    "print(baseimg.shape)\n",
    "nx,ny = 512,512\n",
    "nx,ny = baseimg.shape\n",
    "sz = (nx,ny)\n",
    "canvas = np.zeros(sz)\n",
    "print(canvas.shape)"
   ]
  },
  {
   "cell_type": "code",
   "execution_count": 3,
   "metadata": {},
   "outputs": [],
   "source": [
    "from scipy.interpolate import UnivariateSpline\n",
    "\n",
    "def smooth_line(x,y,num=None,**kwargs):\n",
    "    if num is None:\n",
    "        num = len(x)\n",
    "    w = np.arange(0,len(x),1)\n",
    "    sx = UnivariateSpline(w,x,**kwargs)\n",
    "    sy = UnivariateSpline(w,y,**kwargs)\n",
    "    wnew = np.linspace(0,len(x),num)\n",
    "    return sx(wnew),sy(wnew)"
   ]
  },
  {
   "cell_type": "code",
   "execution_count": 57,
   "metadata": {},
   "outputs": [
    {
     "name": "stdout",
     "output_type": "stream",
     "text": [
      "184 184\n"
     ]
    },
    {
     "data": {
      "image/png": "[encoded data removed]",
      "text/plain": [
       "<Figure size 432x288 with 2 Axes>"
      ]
     },
     "metadata": {
      "needs_background": "light"
     },
     "output_type": "display_data"
    }
   ],
   "source": [
    "def make_image():\n",
    "    nx,ny = 512,512\n",
    "    sz = (nx,ny)\n",
    "    canvas = np.zeros(sz)\n",
    "\n",
    "    peak_num = np.random.randint(0,10,1)[0]\n",
    "    for n in range(peak_num):\n",
    "        x = np.random.choice(np.linspace(0, nx-1, nx),1).astype(np.int)[0]\n",
    "        y = np.random.choice(np.linspace(0, ny-1, ny),1).astype(np.int)[0]\n",
    "        canvas[x,y]=1\n",
    "\n",
    "    distance = ndi.distance_transform_edt(np.logical_not(canvas))\n",
    "    terrain = ndi.morphology.distance_transform_edt(distance)\n",
    "    terrain = -1*terrain + -1*np.min(-1*terrain)\n",
    "\n",
    "\n",
    "    prct = np.random.randint(25,75,1)[0]\n",
    "    th = np.percentile(terrain.ravel(),prct)\n",
    "    mask = terrain<th\n",
    "    mask = np.expand_dims(mask,axis=-1)\n",
    "    minlen = 100\n",
    "    while True:\n",
    "        pt = []\n",
    "        for n in range(2):\n",
    "            breakok = False\n",
    "            while True:\n",
    "                x = np.random.choice(np.linspace(0, nx-1, nx),1).astype(np.int)[0]\n",
    "                y = np.random.choice(np.linspace(0, ny-1, ny),1).astype(np.int)[0]\n",
    "                z = 0\n",
    "                if len(pt)==0 and mask[x,y,z] == 1:\n",
    "                    breakok = True\n",
    "                if len(pt)==1 and mask[x,y,z] == 1 and \\\n",
    "                    np.abs(x-pt[0][0]) > minlen and np.abs(y-pt[0][1]) > minlen:\n",
    "                    breakok = True\n",
    "                if breakok:\n",
    "                    break\n",
    "            pt.append((x,y,z))\n",
    "        start_point = pt[0]\n",
    "        end_point = pt[1]\n",
    "        line = extract_centerline(mask,start_point,end_point)\n",
    "        linexorg,lineyorg,linez=line\n",
    "        smothing_factor=np.random.rand()*1000\n",
    "        try:\n",
    "            linex,liney = smooth_line(linexorg,lineyorg,num=100*len(linexorg),s=smothing_factor)\n",
    "        except:\n",
    "            pass\n",
    "        if len(linexorg) > 10:\n",
    "            break\n",
    "    mask = mask.squeeze()\n",
    "    return mask, terrain, linexorg,lineyorg, linex, liney\n",
    "\n",
    "mask, terrain, linexorg,lineyorg, linex, liney = make_image()\n",
    "\n",
    "plt.subplot(121)\n",
    "plt.imshow(mask.squeeze(),cmap='gray')\n",
    "plt.subplot(122)\n",
    "plt.imshow(terrain,cmap='gray')\n",
    "plt.plot(liney,linex)\n",
    "\n",
    "print(len(linexorg),len(lineyorg))\n"
   ]
  },
  {
   "cell_type": "code",
   "execution_count": null,
   "metadata": {},
   "outputs": [],
   "source": []
  },
  {
   "cell_type": "code",
   "execution_count": null,
   "metadata": {},
   "outputs": [],
   "source": []
  },
  {
   "cell_type": "code",
   "execution_count": null,
   "metadata": {},
   "outputs": [],
   "source": []
  }
 ],
 "metadata": {
  "kernelspec": {
   "display_name": "Python 3",
   "language": "python",
   "name": "python3"
  },
  "language_info": {
   "codemirror_mode": {
    "name": "ipython",
    "version": 3
   },
   "file_extension": ".py",
   "mimetype": "text/x-python",
   "name": "python",
   "nbconvert_exporter": "python",
   "pygments_lexer": "ipython3",
   "version": "3.6.7"
  }
 },
 "nbformat": 4,
 "nbformat_minor": 2
}
