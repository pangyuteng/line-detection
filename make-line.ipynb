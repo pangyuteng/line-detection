{
 "cells": [
  {
   "cell_type": "code",
   "execution_count": 71,
   "metadata": {},
   "outputs": [],
   "source": [
    "import traceback\n",
    "import numpy as np\n",
    "from scipy.interpolate import UnivariateSpline\n",
    "from scipy.ndimage import binary_dilation\n",
    "from scipy import ndimage as ndi\n",
    "import matplotlib.pyplot as plt\n",
    "%matplotlib inline"
   ]
  },
  {
   "cell_type": "code",
   "execution_count": 72,
   "metadata": {},
   "outputs": [],
   "source": [
    "# AIM OF THIS NOTE BOOK\n",
    "\n",
    "## download dataset\n",
    "# https://cs.stanford.edu/~acoates/stl10/\n",
    "# wget https://raw.githubusercontent.com/mttk/STL10/master/stl10_input.py\n",
    "# python stl10_input.py\n",
    "\n",
    "## add MULTIPLE lines to images.\n",
    "\n",
    "## use above format dataset\n",
    "\n",
    "## train yolo with images with line"
   ]
  },
  {
   "cell_type": "code",
   "execution_count": 73,
   "metadata": {},
   "outputs": [],
   "source": [
    "from extract_centerline import extract_centerline\n",
    "from scipy.interpolate import UnivariateSpline\n",
    "def smooth_line(x,y,num=None,**kwargs):\n",
    "    if num is None:\n",
    "        num = len(x)\n",
    "    w = np.arange(0,len(x),1)\n",
    "    sx = UnivariateSpline(w,x,**kwargs)\n",
    "    sy = UnivariateSpline(w,y,**kwargs)\n",
    "    wnew = np.linspace(0,len(x),num)\n",
    "    return sx(wnew),sy(wnew)"
   ]
  },
  {
   "cell_type": "code",
   "execution_count": 138,
   "metadata": {},
   "outputs": [],
   "source": [
    "def make_line(nx=256,ny=256):\n",
    "    sz = (nx,ny)\n",
    "    canvas = np.zeros(sz)\n",
    "\n",
    "    peak_num = np.random.randint(0,10,1)[0]\n",
    "    for n in range(peak_num):\n",
    "        x = np.random.choice(np.linspace(0, nx-1, nx),1).astype(np.int)[0]\n",
    "        y = np.random.choice(np.linspace(0, ny-1, ny),1).astype(np.int)[0]\n",
    "        canvas[x,y]=1\n",
    "\n",
    "    distance = ndi.distance_transform_edt(np.logical_not(canvas))\n",
    "    terrain = ndi.morphology.distance_transform_edt(distance)\n",
    "    terrain = -1*terrain + -1*np.min(-1*terrain)\n",
    "\n",
    "\n",
    "    prct = np.random.randint(25,75,1)[0]\n",
    "    th = np.percentile(terrain.ravel(),prct)\n",
    "    mask = terrain<th\n",
    "    mask = np.expand_dims(mask,axis=-1)\n",
    "    minlen = 50\n",
    "    count0=0\n",
    "    while True:\n",
    "        pt = []\n",
    "        for n in range(2):\n",
    "            count1=0\n",
    "            breakok = False\n",
    "            while True:\n",
    "                x = np.random.choice(np.linspace(0, nx-1, nx),1).astype(np.int)[0]\n",
    "                y = np.random.choice(np.linspace(0, ny-1, ny),1).astype(np.int)[0]\n",
    "                z = 0\n",
    "                if len(pt)==0 and mask[x,y,z] == 1:\n",
    "                    breakok = True\n",
    "                if len(pt)==1 and mask[x,y,z] == 1 and \\\n",
    "                    np.abs(x-pt[0][0]) > minlen and np.abs(y-pt[0][1]) > minlen:\n",
    "                    breakok = True\n",
    "                if breakok:\n",
    "                    break\n",
    "                count1+=1\n",
    "                if count1>100:\n",
    "                    raise LookupError('ok1')\n",
    "            pt.append((x,y,z))\n",
    "        start_point = pt[0]\n",
    "        end_point = pt[1]\n",
    "        line = extract_centerline(mask,start_point,end_point)\n",
    "        linexorg,lineyorg,linez=line\n",
    "        smothing_factor=np.random.rand()*1000\n",
    "        try:\n",
    "            linex,liney = smooth_line(linexorg,lineyorg,num=100*len(linexorg),s=smothing_factor)\n",
    "        except:\n",
    "            pass\n",
    "        if len(linexorg) > 10:\n",
    "            break\n",
    "            \n",
    "        count0+=1\n",
    "        if count0>200:\n",
    "            raise LookupError('ok0')\n",
    "            \n",
    "    mask = mask.squeeze()\n",
    "    return mask, terrain, linexorg,lineyorg, linex, liney\n"
   ]
  },
  {
   "cell_type": "code",
   "execution_count": null,
   "metadata": {},
   "outputs": [
    {
     "name": "stdout",
     "output_type": "stream",
     "text": [
      "60 60\n"
     ]
    }
   ],
   "source": [
    "maskorg, terrain, linexorg,lineyorg, linex, liney = make_line()\n",
    "myimage = np.copy(terrain)\n",
    "mymax = np.max(myimage)\n",
    "for x in range(3):\n",
    "    _, _, linexorg,lineyorg, linex, liney = make_line()\n",
    "    mask = np.zeros(myimage.shape)\n",
    "    for x,y in zip(linex,liney):\n",
    "        try:\n",
    "            myimage[x.astype(int),y.astype(int)]=mymax\n",
    "            mask[x.astype(int),y.astype(int)]=1\n",
    "        except:\n",
    "            pass\n",
    "    \n",
    "plt.figure(figsize=(20,20))\n",
    "plt.subplot(121)\n",
    "plt.imshow(terrain,cmap='gray')\n",
    "plt.subplot(122)\n",
    "plt.imshow(myimage,cmap='gray')\n",
    "print(len(linexorg),len(lineyorg))"
   ]
  },
  {
   "cell_type": "code",
   "execution_count": null,
   "metadata": {},
   "outputs": [],
   "source": [
    "# create dataset with multiple lines\n",
    "\n"
   ]
  },
  {
   "cell_type": "code",
   "execution_count": null,
   "metadata": {},
   "outputs": [],
   "source": []
  }
 ],
 "metadata": {
  "kernelspec": {
   "display_name": "Python 3",
   "language": "python",
   "name": "python3"
  },
  "language_info": {
   "codemirror_mode": {
    "name": "ipython",
    "version": 3
   },
   "file_extension": ".py",
   "mimetype": "text/x-python",
   "name": "python",
   "nbconvert_exporter": "python",
   "pygments_lexer": "ipython3",
   "version": "3.6.7"
  }
 },
 "nbformat": 4,
 "nbformat_minor": 2
}
